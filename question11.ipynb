{
 "cells": [
  {
   "cell_type": "markdown",
   "id": "8902df0d-6988-4408-93af-47ef0e87d54e",
   "metadata": {},
   "source": [
    "# Name: Yujie Kratz\n",
    "Notebook for assignment 7"
   ]
  },
  {
   "cell_type": "code",
   "execution_count": 5,
   "id": "99a70f00-f6e2-4552-aeb0-4e67fd7eff80",
   "metadata": {},
   "outputs": [
    {
     "name": "stdout",
     "output_type": "stream",
     "text": [
      "5.0\n"
     ]
    }
   ],
   "source": [
    "def compute_mean(lst):\n",
    "    mean = sum(lst) / len(lst)\n",
    "    print(mean)\n",
    "\n",
    "compute_mean([2, 4, 6, 8])"
   ]
  },
  {
   "cell_type": "markdown",
   "id": "1cb72463-9477-49a2-89a4-752f7aa412dc",
   "metadata": {},
   "source": [
    "This is a math equation that generate the mean or average of a list of numbers. We will be adding all the numbers from the list together and divide the total with the total number of numbers.\n",
    "$$\n",
    "\\overline{x} = \\frac{x_1+x_2+...+x_n}{n} = \\frac{1}{n}\\bigg(\\sum^{n}_{i=l}{x_i}\\bigg)\n",
    "$$"
   ]
  },
  {
   "cell_type": "code",
   "execution_count": null,
   "id": "b816a12e-4d01-430a-a3e5-323657d0ba53",
   "metadata": {},
   "outputs": [],
   "source": []
  },
  {
   "cell_type": "code",
   "execution_count": null,
   "id": "b753c28c-6c0e-4797-bda3-5d173a770812",
   "metadata": {},
   "outputs": [],
   "source": []
  }
 ],
 "metadata": {
  "kernelspec": {
   "display_name": "Python 3 (ipykernel)",
   "language": "python",
   "name": "python3"
  },
  "language_info": {
   "codemirror_mode": {
    "name": "ipython",
    "version": 3
   },
   "file_extension": ".py",
   "mimetype": "text/x-python",
   "name": "python",
   "nbconvert_exporter": "python",
   "pygments_lexer": "ipython3",
   "version": "3.12.2"
  }
 },
 "nbformat": 4,
 "nbformat_minor": 5
}
