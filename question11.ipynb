{
 "cells": [
  {
   "cell_type": "markdown",
   "id": "c66c2269-fed9-4004-b016-922ca22ca87c",
   "metadata": {},
   "source": [
    "# Name: Yujie Kratz\n",
    "Notebook for assignment 7"
   ]
  },
  {
   "cell_type": "code",
   "execution_count": 1,
   "id": "344ce217-1408-42b0-8dde-89cc20490def",
   "metadata": {},
   "outputs": [
    {
     "name": "stdout",
     "output_type": "stream",
     "text": [
      "5.0\n"
     ]
    }
   ],
   "source": [
    "def compute_mean(lst):\n",
    "    mean = sum(lst) / len(lst)\n",
    "    print(mean)\n",
    "\n",
    "compute_mean([2, 4, 6, 8])"
   ]
  },
  {
   "cell_type": "markdown",
   "id": "04dd85e1-b2ca-4fa6-8ccc-48505ab82166",
   "metadata": {},
   "source": [
    "This is a math equation that generate the mean or average of a list of numbers. We will be adding all the numbers from the list together and divide the total with the total number of numbers.\n",
    "$$\n",
    "\\overline{x} = \\frac{x_1+x_2+...+x_n}{n} = \\frac{1}{n}\\bigg(\\sum^{n}_{i=l}{x_i}\\bigg)\n",
    "$$"
   ]
  },
  {
   "cell_type": "code",
   "execution_count": null,
   "id": "a4c9fbf0-982c-4d52-85c5-360d354bceeb",
   "metadata": {},
   "outputs": [],
   "source": []
  }
 ],
 "metadata": {
  "kernelspec": {
   "display_name": "Python [conda env:jupyterlab_practice_env]",
   "language": "python",
   "name": "conda-env-jupyterlab_practice_env-py"
  },
  "language_info": {
   "codemirror_mode": {
    "name": "ipython",
    "version": 3
   },
   "file_extension": ".py",
   "mimetype": "text/x-python",
   "name": "python",
   "nbconvert_exporter": "python",
   "pygments_lexer": "ipython3",
   "version": "3.11.8"
  }
 },
 "nbformat": 4,
 "nbformat_minor": 5
}
