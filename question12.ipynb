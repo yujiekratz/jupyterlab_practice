{
 "cells": [
  {
   "cell_type": "markdown",
   "id": "dc00c5f4-4553-4066-894f-7a3893877b28",
   "metadata": {},
   "source": [
    "We are currently working in the following directory:"
   ]
  },
  {
   "cell_type": "code",
   "execution_count": 8,
   "id": "3a6cec53-6fb4-4b91-9946-bc3a1eb503ca",
   "metadata": {},
   "outputs": [
    {
     "name": "stdout",
     "output_type": "stream",
     "text": [
      "/Users/Sophia-Yujie-Zhu/Downloads/student 2/jupyterlab_practice\n"
     ]
    }
   ],
   "source": [
    "!pwd"
   ]
  },
  {
   "cell_type": "markdown",
   "id": "2624d11d-3361-416f-a23d-81eee03ed1a5",
   "metadata": {},
   "source": [
    "To time how long it takes to run a Python cell, we could use the timeit command inside a cell as is shown below: Followed by the proper use of the timeit command to time the following loop:\n",
    "\n",
    "```\n",
    "for i in range(1_000_000):\n",
    "    i**2\n",
    "```"
   ]
  },
  {
   "cell_type": "code",
   "execution_count": 9,
   "id": "f4f94e59-0761-408b-9ca4-33eb72a24337",
   "metadata": {},
   "outputs": [
    {
     "name": "stdout",
     "output_type": "stream",
     "text": [
      "[NbConvertApp] Converting notebook question12.ipynb to html\n",
      "[NbConvertApp] Writing 270625 bytes to question12.html\n"
     ]
    }
   ],
   "source": [
    "!jupyter nbconvert --to html --no-input question12.ipynb"
   ]
  },
  {
   "cell_type": "code",
   "execution_count": null,
   "id": "6272125f-7a9f-45b2-a2fd-56572d681c96",
   "metadata": {},
   "outputs": [],
   "source": []
  }
 ],
 "metadata": {
  "kernelspec": {
   "display_name": "Python 3 (ipykernel)",
   "language": "python",
   "name": "python3"
  },
  "language_info": {
   "codemirror_mode": {
    "name": "ipython",
    "version": 3
   },
   "file_extension": ".py",
   "mimetype": "text/x-python",
   "name": "python",
   "nbconvert_exporter": "python",
   "pygments_lexer": "ipython3",
   "version": "3.12.2"
  }
 },
 "nbformat": 4,
 "nbformat_minor": 5
}
